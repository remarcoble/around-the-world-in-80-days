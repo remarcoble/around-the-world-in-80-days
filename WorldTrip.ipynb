{
 "cells": [
  {
   "cell_type": "markdown",
   "id": "27211206",
   "metadata": {},
   "source": [
    "# Il giro del mondo in 80 giorni\n",
    "\n",
    "Questo progetto utilizza un dataset contenente le principali città del mondo, con annessa locazione geografica e altre informazioni, per calcolare il tempo minimo che ci si metterebbe a viaggiare tra due città, il percorso migliore, il percorso più turistico e altre funzionalità."
   ]
  },
  {
   "cell_type": "code",
   "execution_count": 1,
   "id": "a80cd957",
   "metadata": {},
   "outputs": [],
   "source": [
    "import numpy as np\n",
    "import pandas as pd\n",
    "import matplotlib.pyplot as plt\n",
    "from geopy import distance as geopy\n",
    "from dijkstra import DijkstraSPF, Graph\n",
    "from scipy.spatial import KDTree\n",
    "from sklearn.neighbors import BallTree\n",
    "import math\n",
    "import csv\n",
    "import time"
   ]
  },
  {
   "cell_type": "code",
   "execution_count": 2,
   "id": "f66e0da6",
   "metadata": {},
   "outputs": [],
   "source": [
    "data_file = './data/worldcities_ascii.csv'\n",
    "with open(data_file, 'r') as f:\n",
    "    reader = csv.reader(f)\n",
    "    all_lines = []\n",
    "    for row in reader:\n",
    "        all_lines.append(row)"
   ]
  },
  {
   "cell_type": "markdown",
   "id": "9817747d",
   "metadata": {},
   "source": [
    "## Preprocessing\n",
    "\n",
    "Preprocesso i dati pulendo le virgole in eccesso, corregendo qualche nome e aggiungendo i campi che mi servono.\n",
    "\n",
    ">TODO: Aggiungere dei campi tipo cose da visitare, prezzo medio ecc..."
   ]
  },
  {
   "cell_type": "code",
   "execution_count": 3,
   "id": "7fb8a5dc",
   "metadata": {},
   "outputs": [],
   "source": [
    "newLines = []\n",
    "for line in all_lines:\n",
    "    newLine = []\n",
    "    for index, field in enumerate(line):\n",
    "        if (\".\" in field) and (index == 5): #Toglie il '.' nei valori della popolazione\n",
    "            field = field.replace(\".\", \"\")\n",
    "        field = field.replace(\"Korea, South\", \"South Korea\")\n",
    "        field = field.replace(\"Korea, North\", \"North Korea\")\n",
    "        field = field.replace(\"Gambia, The\", \"The Gambia\")\n",
    "        field = field.replace(\"Micronesia, Federated States Of\", \"Federated States Of Micronesia\")\n",
    "        field = field.replace(\"Bahamas, The\", \"The Bahamas\")\n",
    "        field = field.replace(\"Saint Helena, Ascension, And Tristan Da Cunha\", \"Saint Helena, Ascension and Tristan da Cunha\")\n",
    "        field = field.replace(\"Islamorada, Village of Islands\", \"Village of Islands Islamorada\")\n",
    "        if index == 6:\n",
    "            field = field.replace(\"\\n\", \"\")\n",
    "        newLine.append(field)\n",
    "    newLines.append(newLine)\n",
    "\n",
    "#Lo esporto in caso mi servisse in altri progetti\n",
    "df = pd.DataFrame(newLines[1:], columns=newLines[0])\n",
    "df[\"population\"].replace({\"\": 0}, inplace= True) #Correggo alcuni valori che non hanno la popolazione con 0 anche se sarebbe più corretto lasciare null/None\n",
    "df.to_csv(\"./data/worldcities_preprocessed.csv\", index=False)"
   ]
  },
  {
   "cell_type": "code",
   "execution_count": 4,
   "id": "052d0881",
   "metadata": {},
   "outputs": [
    {
     "data": {
      "text/html": [
       "<div>\n",
       "<style scoped>\n",
       "    .dataframe tbody tr th:only-of-type {\n",
       "        vertical-align: middle;\n",
       "    }\n",
       "\n",
       "    .dataframe tbody tr th {\n",
       "        vertical-align: top;\n",
       "    }\n",
       "\n",
       "    .dataframe thead th {\n",
       "        text-align: right;\n",
       "    }\n",
       "</style>\n",
       "<table border=\"1\" class=\"dataframe\">\n",
       "  <thead>\n",
       "    <tr style=\"text-align: right;\">\n",
       "      <th></th>\n",
       "      <th>city</th>\n",
       "      <th>lat</th>\n",
       "      <th>lng</th>\n",
       "      <th>country</th>\n",
       "      <th>iso3</th>\n",
       "      <th>population</th>\n",
       "      <th>id</th>\n",
       "    </tr>\n",
       "  </thead>\n",
       "  <tbody>\n",
       "    <tr>\n",
       "      <th>0</th>\n",
       "      <td>Hindupur</td>\n",
       "      <td>13.83</td>\n",
       "      <td>77.49</td>\n",
       "      <td>India</td>\n",
       "      <td>IND</td>\n",
       "      <td>151677</td>\n",
       "      <td>1356805611</td>\n",
       "    </tr>\n",
       "    <tr>\n",
       "      <th>1</th>\n",
       "      <td>Forst</td>\n",
       "      <td>51.7333</td>\n",
       "      <td>14.6333</td>\n",
       "      <td>Germany</td>\n",
       "      <td>DEU</td>\n",
       "      <td>18164</td>\n",
       "      <td>1276307453</td>\n",
       "    </tr>\n",
       "    <tr>\n",
       "      <th>2</th>\n",
       "      <td>Nanchong</td>\n",
       "      <td>30.7991</td>\n",
       "      <td>106.0784</td>\n",
       "      <td>China</td>\n",
       "      <td>CHN</td>\n",
       "      <td>6183000</td>\n",
       "      <td>1156762337</td>\n",
       "    </tr>\n",
       "    <tr>\n",
       "      <th>3</th>\n",
       "      <td>Ishim</td>\n",
       "      <td>56.1167</td>\n",
       "      <td>69.5</td>\n",
       "      <td>Russia</td>\n",
       "      <td>RUS</td>\n",
       "      <td>65142</td>\n",
       "      <td>1643798395</td>\n",
       "    </tr>\n",
       "    <tr>\n",
       "      <th>4</th>\n",
       "      <td>Vrchlabi</td>\n",
       "      <td>50.627</td>\n",
       "      <td>15.6095</td>\n",
       "      <td>Czechia</td>\n",
       "      <td>CZE</td>\n",
       "      <td>12340</td>\n",
       "      <td>1203953730</td>\n",
       "    </tr>\n",
       "    <tr>\n",
       "      <th>...</th>\n",
       "      <td>...</td>\n",
       "      <td>...</td>\n",
       "      <td>...</td>\n",
       "      <td>...</td>\n",
       "      <td>...</td>\n",
       "      <td>...</td>\n",
       "      <td>...</td>\n",
       "    </tr>\n",
       "    <tr>\n",
       "      <th>995</th>\n",
       "      <td>Leczyca</td>\n",
       "      <td>52.0583</td>\n",
       "      <td>19.2</td>\n",
       "      <td>Poland</td>\n",
       "      <td>POL</td>\n",
       "      <td>15593</td>\n",
       "      <td>1616649790</td>\n",
       "    </tr>\n",
       "    <tr>\n",
       "      <th>996</th>\n",
       "      <td>Lewisburg</td>\n",
       "      <td>40.9642</td>\n",
       "      <td>-76.8901</td>\n",
       "      <td>United States</td>\n",
       "      <td>USA</td>\n",
       "      <td>5708</td>\n",
       "      <td>1840003531</td>\n",
       "    </tr>\n",
       "    <tr>\n",
       "      <th>997</th>\n",
       "      <td>Dent</td>\n",
       "      <td>39.1922</td>\n",
       "      <td>-84.6593</td>\n",
       "      <td>United States</td>\n",
       "      <td>USA</td>\n",
       "      <td>11378</td>\n",
       "      <td>1840005880</td>\n",
       "    </tr>\n",
       "    <tr>\n",
       "      <th>998</th>\n",
       "      <td>Ward</td>\n",
       "      <td>35.0117</td>\n",
       "      <td>-91.9577</td>\n",
       "      <td>United States</td>\n",
       "      <td>USA</td>\n",
       "      <td>5358</td>\n",
       "      <td>1840015504</td>\n",
       "    </tr>\n",
       "    <tr>\n",
       "      <th>999</th>\n",
       "      <td>South Portland</td>\n",
       "      <td>43.631</td>\n",
       "      <td>-70.2895</td>\n",
       "      <td>United States</td>\n",
       "      <td>USA</td>\n",
       "      <td>25532</td>\n",
       "      <td>1840000328</td>\n",
       "    </tr>\n",
       "  </tbody>\n",
       "</table>\n",
       "<p>1000 rows × 7 columns</p>\n",
       "</div>"
      ],
      "text/plain": [
       "               city      lat       lng        country iso3 population  \\\n",
       "0          Hindupur    13.83     77.49          India  IND     151677   \n",
       "1             Forst  51.7333   14.6333        Germany  DEU      18164   \n",
       "2          Nanchong  30.7991  106.0784          China  CHN    6183000   \n",
       "3             Ishim  56.1167      69.5         Russia  RUS      65142   \n",
       "4          Vrchlabi   50.627   15.6095        Czechia  CZE      12340   \n",
       "..              ...      ...       ...            ...  ...        ...   \n",
       "995         Leczyca  52.0583      19.2         Poland  POL      15593   \n",
       "996       Lewisburg  40.9642  -76.8901  United States  USA       5708   \n",
       "997            Dent  39.1922  -84.6593  United States  USA      11378   \n",
       "998            Ward  35.0117  -91.9577  United States  USA       5358   \n",
       "999  South Portland   43.631  -70.2895  United States  USA      25532   \n",
       "\n",
       "             id  \n",
       "0    1356805611  \n",
       "1    1276307453  \n",
       "2    1156762337  \n",
       "3    1643798395  \n",
       "4    1203953730  \n",
       "..          ...  \n",
       "995  1616649790  \n",
       "996  1840003531  \n",
       "997  1840005880  \n",
       "998  1840015504  \n",
       "999  1840000328  \n",
       "\n",
       "[1000 rows x 7 columns]"
      ]
     },
     "execution_count": 4,
     "metadata": {},
     "output_type": "execute_result"
    }
   ],
   "source": [
    "#Siccome sono troppe per lavorarci inizio a prenderne solo 1000 a caso\n",
    "lineIndexes = np.random.choice(range(1, len(newLines)), size=1000, replace=False)\n",
    "df = pd.DataFrame([newLines[i] for i in lineIndexes], columns=newLines[0])\n",
    "df[\"population\"].replace({\"\": 0}, inplace= True)\n",
    "df"
   ]
  },
  {
   "cell_type": "code",
   "execution_count": 5,
   "id": "14f3420f",
   "metadata": {},
   "outputs": [],
   "source": [
    "class CityNode:\n",
    "    \n",
    "    def __init__(self, cityID: int, cityName: str, lat: float, lng: float, population: int, countryISO3: str):\n",
    "        self.cityID = cityID\n",
    "        self.cityName = cityName\n",
    "        self.lat = lat\n",
    "        self.lng = lng\n",
    "        self.coordinates = np.array([lat, lng])\n",
    "        self.population = population\n",
    "        self.countryISO3 = countryISO3\n",
    "        self.neighbour1 = None\n",
    "        self.neighbour2 = None\n",
    "        self.neighbour3 = None\n",
    "        \n",
    "    \n",
    "    def updateNeighbour(self, cityIndex: int, position: int):\n",
    "        if position == 1:\n",
    "            self.neighbour1 = cityIndex\n",
    "        elif position == 2:\n",
    "            self.neighbour2 = cityIndex\n",
    "        elif position == 3:\n",
    "            self.neighbour3 = cityIndex\n",
    "            \n",
    "    def __repr__(self):\n",
    "        return f\"{self.cityName} at {self.lat}, {self.lng} with neighbours: {self.neighbour1}, {self.neighbour2}, {self.neighbour3}\""
   ]
  },
  {
   "cell_type": "code",
   "execution_count": 6,
   "id": "839ea665",
   "metadata": {},
   "outputs": [],
   "source": [
    "nodes = [CityNode(int(c.id), c.city, float(c.lat), float(c.lng), int(c.population), c.iso3) for _, c in df.iterrows()]"
   ]
  },
  {
   "cell_type": "code",
   "execution_count": 7,
   "id": "b7e0a0e8",
   "metadata": {},
   "outputs": [],
   "source": [
    "def updateMin(min1, min2, min3, dist: float, index: int):\n",
    "    if (min1 is None) or (min2 is None) or (min3 is None):\n",
    "        min1 = {\"index\": index, \"dist\": dist}\n",
    "        min2 = {\"index\": index, \"dist\": dist}\n",
    "        min3 = {\"index\": index, \"dist\": dist}\n",
    "    elif dist <= min1[\"dist\"]:\n",
    "        min3 = min2\n",
    "        min2 = min1\n",
    "        min1 = {\"index\": index, \"dist\": dist}\n",
    "    elif dist <= min2[\"dist\"]:\n",
    "        min3 = min2\n",
    "        min2 = {\"index\": index, \"dist\": dist}\n",
    "    elif dist <= min3[\"dist\"]:\n",
    "        min3 = {\"index\": index, \"dist\": dist}\n",
    "    return (min1, min2, min3)\n",
    "\n",
    "def calculateTime(start: CityNode, end: CityNode, position: int):\n",
    "    if position == 1:\n",
    "        time = 2\n",
    "    elif position == 2:\n",
    "        time = 4\n",
    "    elif position == 3:\n",
    "        time = 8\n",
    "    if start.countryISO3 != end.countryISO3:\n",
    "        time += 2\n",
    "    if end.population > 200000:\n",
    "        time += 2\n",
    "    return time"
   ]
  },
  {
   "cell_type": "code",
   "execution_count": 23,
   "id": "68464e51",
   "metadata": {
    "scrolled": false
   },
   "outputs": [
    {
     "name": "stdout",
     "output_type": "stream",
     "text": [
      "Execution: 100\t\tTime elapsed (s): 47.35646438598633\n"
     ]
    },
    {
     "ename": "KeyboardInterrupt",
     "evalue": "",
     "output_type": "error",
     "traceback": [
      "\u001b[1;31m---------------------------------------------------------------------------\u001b[0m",
      "\u001b[1;31mKeyboardInterrupt\u001b[0m                         Traceback (most recent call last)",
      "\u001b[1;32m~\\AppData\\Local\\Temp/ipykernel_11608/160549375.py\u001b[0m in \u001b[0;36m<module>\u001b[1;34m\u001b[0m\n\u001b[0;32m      7\u001b[0m         \u001b[1;32mif\u001b[0m \u001b[0mi\u001b[0m \u001b[1;33m==\u001b[0m \u001b[0mj\u001b[0m\u001b[1;33m:\u001b[0m\u001b[1;33m\u001b[0m\u001b[1;33m\u001b[0m\u001b[0m\n\u001b[0;32m      8\u001b[0m             \u001b[1;32mcontinue\u001b[0m\u001b[1;33m\u001b[0m\u001b[1;33m\u001b[0m\u001b[0m\n\u001b[1;32m----> 9\u001b[1;33m         \u001b[0mdist\u001b[0m \u001b[1;33m=\u001b[0m \u001b[0mgeopy\u001b[0m\u001b[1;33m.\u001b[0m\u001b[0mdistance\u001b[0m\u001b[1;33m(\u001b[0m\u001b[0mnodes\u001b[0m\u001b[1;33m[\u001b[0m\u001b[0mi\u001b[0m\u001b[1;33m]\u001b[0m\u001b[1;33m.\u001b[0m\u001b[0mcoordinates\u001b[0m\u001b[1;33m,\u001b[0m \u001b[0mnodes\u001b[0m\u001b[1;33m[\u001b[0m\u001b[0mj\u001b[0m\u001b[1;33m]\u001b[0m\u001b[1;33m.\u001b[0m\u001b[0mcoordinates\u001b[0m\u001b[1;33m)\u001b[0m\u001b[1;33m\u001b[0m\u001b[1;33m\u001b[0m\u001b[0m\n\u001b[0m\u001b[0;32m     10\u001b[0m         \u001b[0mmin1\u001b[0m\u001b[1;33m,\u001b[0m \u001b[0mmin2\u001b[0m\u001b[1;33m,\u001b[0m \u001b[0mmin3\u001b[0m \u001b[1;33m=\u001b[0m \u001b[0mupdateMin\u001b[0m\u001b[1;33m(\u001b[0m\u001b[0mmin1\u001b[0m\u001b[1;33m,\u001b[0m \u001b[0mmin2\u001b[0m\u001b[1;33m,\u001b[0m \u001b[0mmin3\u001b[0m\u001b[1;33m,\u001b[0m \u001b[0mdist\u001b[0m\u001b[1;33m,\u001b[0m \u001b[0mj\u001b[0m\u001b[1;33m)\u001b[0m\u001b[1;33m\u001b[0m\u001b[1;33m\u001b[0m\u001b[0m\n\u001b[0;32m     11\u001b[0m     \u001b[0mnodes\u001b[0m\u001b[1;33m[\u001b[0m\u001b[0mi\u001b[0m\u001b[1;33m]\u001b[0m\u001b[1;33m.\u001b[0m\u001b[0mupdateNeighbour\u001b[0m\u001b[1;33m(\u001b[0m\u001b[0mmin1\u001b[0m\u001b[1;33m[\u001b[0m\u001b[1;34m\"index\"\u001b[0m\u001b[1;33m]\u001b[0m\u001b[1;33m,\u001b[0m \u001b[1;36m1\u001b[0m\u001b[1;33m)\u001b[0m\u001b[1;33m\u001b[0m\u001b[1;33m\u001b[0m\u001b[0m\n",
      "\u001b[1;32mc:\\users\\marco\\appdata\\local\\programs\\python\\python39\\lib\\site-packages\\geopy\\distance.py\u001b[0m in \u001b[0;36m__init__\u001b[1;34m(self, *args, **kwargs)\u001b[0m\n\u001b[0;32m    520\u001b[0m         \u001b[0mself\u001b[0m\u001b[1;33m.\u001b[0m\u001b[0mset_ellipsoid\u001b[0m\u001b[1;33m(\u001b[0m\u001b[0mkwargs\u001b[0m\u001b[1;33m.\u001b[0m\u001b[0mpop\u001b[0m\u001b[1;33m(\u001b[0m\u001b[1;34m'ellipsoid'\u001b[0m\u001b[1;33m,\u001b[0m \u001b[1;34m'WGS-84'\u001b[0m\u001b[1;33m)\u001b[0m\u001b[1;33m)\u001b[0m\u001b[1;33m\u001b[0m\u001b[1;33m\u001b[0m\u001b[0m\n\u001b[0;32m    521\u001b[0m         \u001b[0mmajor\u001b[0m\u001b[1;33m,\u001b[0m \u001b[0mminor\u001b[0m\u001b[1;33m,\u001b[0m \u001b[0mf\u001b[0m \u001b[1;33m=\u001b[0m \u001b[0mself\u001b[0m\u001b[1;33m.\u001b[0m\u001b[0mELLIPSOID\u001b[0m\u001b[1;33m\u001b[0m\u001b[1;33m\u001b[0m\u001b[0m\n\u001b[1;32m--> 522\u001b[1;33m         \u001b[0msuper\u001b[0m\u001b[1;33m(\u001b[0m\u001b[1;33m)\u001b[0m\u001b[1;33m.\u001b[0m\u001b[0m__init__\u001b[0m\u001b[1;33m(\u001b[0m\u001b[1;33m*\u001b[0m\u001b[0margs\u001b[0m\u001b[1;33m,\u001b[0m \u001b[1;33m**\u001b[0m\u001b[0mkwargs\u001b[0m\u001b[1;33m)\u001b[0m\u001b[1;33m\u001b[0m\u001b[1;33m\u001b[0m\u001b[0m\n\u001b[0m\u001b[0;32m    523\u001b[0m \u001b[1;33m\u001b[0m\u001b[0m\n\u001b[0;32m    524\u001b[0m     \u001b[1;32mdef\u001b[0m \u001b[0mset_ellipsoid\u001b[0m\u001b[1;33m(\u001b[0m\u001b[0mself\u001b[0m\u001b[1;33m,\u001b[0m \u001b[0mellipsoid\u001b[0m\u001b[1;33m)\u001b[0m\u001b[1;33m:\u001b[0m\u001b[1;33m\u001b[0m\u001b[1;33m\u001b[0m\u001b[0m\n",
      "\u001b[1;32mc:\\users\\marco\\appdata\\local\\programs\\python\\python39\\lib\\site-packages\\geopy\\distance.py\u001b[0m in \u001b[0;36m__init__\u001b[1;34m(self, *args, **kwargs)\u001b[0m\n\u001b[0;32m    274\u001b[0m         \u001b[1;32melif\u001b[0m \u001b[0mlen\u001b[0m\u001b[1;33m(\u001b[0m\u001b[0margs\u001b[0m\u001b[1;33m)\u001b[0m \u001b[1;33m>\u001b[0m \u001b[1;36m1\u001b[0m\u001b[1;33m:\u001b[0m\u001b[1;33m\u001b[0m\u001b[1;33m\u001b[0m\u001b[0m\n\u001b[0;32m    275\u001b[0m             \u001b[1;32mfor\u001b[0m \u001b[0ma\u001b[0m\u001b[1;33m,\u001b[0m \u001b[0mb\u001b[0m \u001b[1;32min\u001b[0m \u001b[0mutil\u001b[0m\u001b[1;33m.\u001b[0m\u001b[0mpairwise\u001b[0m\u001b[1;33m(\u001b[0m\u001b[0margs\u001b[0m\u001b[1;33m)\u001b[0m\u001b[1;33m:\u001b[0m\u001b[1;33m\u001b[0m\u001b[1;33m\u001b[0m\u001b[0m\n\u001b[1;32m--> 276\u001b[1;33m                 \u001b[0mkilometers\u001b[0m \u001b[1;33m+=\u001b[0m \u001b[0mself\u001b[0m\u001b[1;33m.\u001b[0m\u001b[0mmeasure\u001b[0m\u001b[1;33m(\u001b[0m\u001b[0ma\u001b[0m\u001b[1;33m,\u001b[0m \u001b[0mb\u001b[0m\u001b[1;33m)\u001b[0m\u001b[1;33m\u001b[0m\u001b[1;33m\u001b[0m\u001b[0m\n\u001b[0m\u001b[0;32m    277\u001b[0m \u001b[1;33m\u001b[0m\u001b[0m\n\u001b[0;32m    278\u001b[0m         \u001b[0mkilometers\u001b[0m \u001b[1;33m+=\u001b[0m \u001b[0munits\u001b[0m\u001b[1;33m.\u001b[0m\u001b[0mkilometers\u001b[0m\u001b[1;33m(\u001b[0m\u001b[1;33m**\u001b[0m\u001b[0mkwargs\u001b[0m\u001b[1;33m)\u001b[0m\u001b[1;33m\u001b[0m\u001b[1;33m\u001b[0m\u001b[0m\n",
      "\u001b[1;32mc:\\users\\marco\\appdata\\local\\programs\\python\\python39\\lib\\site-packages\\geopy\\distance.py\u001b[0m in \u001b[0;36mmeasure\u001b[1;34m(self, a, b)\u001b[0m\n\u001b[0;32m    544\u001b[0m                 \u001b[0mself\u001b[0m\u001b[1;33m.\u001b[0m\u001b[0mgeod\u001b[0m\u001b[1;33m.\u001b[0m\u001b[0ma\u001b[0m \u001b[1;33m==\u001b[0m \u001b[0mself\u001b[0m\u001b[1;33m.\u001b[0m\u001b[0mELLIPSOID\u001b[0m\u001b[1;33m[\u001b[0m\u001b[1;36m0\u001b[0m\u001b[1;33m]\u001b[0m \u001b[1;32mand\u001b[0m\u001b[1;33m\u001b[0m\u001b[1;33m\u001b[0m\u001b[0m\n\u001b[0;32m    545\u001b[0m                 self.geod.f == self.ELLIPSOID[2]):\n\u001b[1;32m--> 546\u001b[1;33m             \u001b[0mself\u001b[0m\u001b[1;33m.\u001b[0m\u001b[0mgeod\u001b[0m \u001b[1;33m=\u001b[0m \u001b[0mGeodesic\u001b[0m\u001b[1;33m(\u001b[0m\u001b[0mself\u001b[0m\u001b[1;33m.\u001b[0m\u001b[0mELLIPSOID\u001b[0m\u001b[1;33m[\u001b[0m\u001b[1;36m0\u001b[0m\u001b[1;33m]\u001b[0m\u001b[1;33m,\u001b[0m \u001b[0mself\u001b[0m\u001b[1;33m.\u001b[0m\u001b[0mELLIPSOID\u001b[0m\u001b[1;33m[\u001b[0m\u001b[1;36m2\u001b[0m\u001b[1;33m]\u001b[0m\u001b[1;33m)\u001b[0m\u001b[1;33m\u001b[0m\u001b[1;33m\u001b[0m\u001b[0m\n\u001b[0m\u001b[0;32m    547\u001b[0m \u001b[1;33m\u001b[0m\u001b[0m\n\u001b[0;32m    548\u001b[0m         s12 = self.geod.Inverse(lat1, lon1, lat2, lon2,\n",
      "\u001b[1;32mc:\\users\\marco\\appdata\\local\\programs\\python\\python39\\lib\\site-packages\\geographiclib\\geodesic.py\u001b[0m in \u001b[0;36m__init__\u001b[1;34m(self, a, f)\u001b[0m\n\u001b[0;32m    316\u001b[0m     \u001b[0mself\u001b[0m\u001b[1;33m.\u001b[0m\u001b[0m_C3x\u001b[0m \u001b[1;33m=\u001b[0m \u001b[0mlist\u001b[0m\u001b[1;33m(\u001b[0m\u001b[0mrange\u001b[0m\u001b[1;33m(\u001b[0m\u001b[0mGeodesic\u001b[0m\u001b[1;33m.\u001b[0m\u001b[0mnC3x_\u001b[0m\u001b[1;33m)\u001b[0m\u001b[1;33m)\u001b[0m\u001b[1;33m\u001b[0m\u001b[1;33m\u001b[0m\u001b[0m\n\u001b[0;32m    317\u001b[0m     \u001b[0mself\u001b[0m\u001b[1;33m.\u001b[0m\u001b[0m_C4x\u001b[0m \u001b[1;33m=\u001b[0m \u001b[0mlist\u001b[0m\u001b[1;33m(\u001b[0m\u001b[0mrange\u001b[0m\u001b[1;33m(\u001b[0m\u001b[0mGeodesic\u001b[0m\u001b[1;33m.\u001b[0m\u001b[0mnC4x_\u001b[0m\u001b[1;33m)\u001b[0m\u001b[1;33m)\u001b[0m\u001b[1;33m\u001b[0m\u001b[1;33m\u001b[0m\u001b[0m\n\u001b[1;32m--> 318\u001b[1;33m     \u001b[0mself\u001b[0m\u001b[1;33m.\u001b[0m\u001b[0m_A3coeff\u001b[0m\u001b[1;33m(\u001b[0m\u001b[1;33m)\u001b[0m\u001b[1;33m\u001b[0m\u001b[1;33m\u001b[0m\u001b[0m\n\u001b[0m\u001b[0;32m    319\u001b[0m     \u001b[0mself\u001b[0m\u001b[1;33m.\u001b[0m\u001b[0m_C3coeff\u001b[0m\u001b[1;33m(\u001b[0m\u001b[1;33m)\u001b[0m\u001b[1;33m\u001b[0m\u001b[1;33m\u001b[0m\u001b[0m\n\u001b[0;32m    320\u001b[0m     \u001b[0mself\u001b[0m\u001b[1;33m.\u001b[0m\u001b[0m_C4coeff\u001b[0m\u001b[1;33m(\u001b[0m\u001b[1;33m)\u001b[0m\u001b[1;33m\u001b[0m\u001b[1;33m\u001b[0m\u001b[0m\n",
      "\u001b[1;32mc:\\users\\marco\\appdata\\local\\programs\\python\\python39\\lib\\site-packages\\geographiclib\\geodesic.py\u001b[0m in \u001b[0;36m_A3coeff\u001b[1;34m(self)\u001b[0m\n\u001b[0;32m    332\u001b[0m     \u001b[0mo\u001b[0m \u001b[1;33m=\u001b[0m \u001b[1;36m0\u001b[0m\u001b[1;33m;\u001b[0m \u001b[0mk\u001b[0m \u001b[1;33m=\u001b[0m \u001b[1;36m0\u001b[0m\u001b[1;33m\u001b[0m\u001b[1;33m\u001b[0m\u001b[0m\n\u001b[0;32m    333\u001b[0m     \u001b[1;32mfor\u001b[0m \u001b[0mj\u001b[0m \u001b[1;32min\u001b[0m \u001b[0mrange\u001b[0m\u001b[1;33m(\u001b[0m\u001b[0mGeodesic\u001b[0m\u001b[1;33m.\u001b[0m\u001b[0mnA3_\u001b[0m \u001b[1;33m-\u001b[0m \u001b[1;36m1\u001b[0m\u001b[1;33m,\u001b[0m \u001b[1;33m-\u001b[0m\u001b[1;36m1\u001b[0m\u001b[1;33m,\u001b[0m \u001b[1;33m-\u001b[0m\u001b[1;36m1\u001b[0m\u001b[1;33m)\u001b[0m\u001b[1;33m:\u001b[0m \u001b[1;31m# coeff of eps^j\u001b[0m\u001b[1;33m\u001b[0m\u001b[1;33m\u001b[0m\u001b[0m\n\u001b[1;32m--> 334\u001b[1;33m       \u001b[0mm\u001b[0m \u001b[1;33m=\u001b[0m \u001b[0mmin\u001b[0m\u001b[1;33m(\u001b[0m\u001b[0mGeodesic\u001b[0m\u001b[1;33m.\u001b[0m\u001b[0mnA3_\u001b[0m \u001b[1;33m-\u001b[0m \u001b[0mj\u001b[0m \u001b[1;33m-\u001b[0m \u001b[1;36m1\u001b[0m\u001b[1;33m,\u001b[0m \u001b[0mj\u001b[0m\u001b[1;33m)\u001b[0m \u001b[1;31m# order of polynomial in n\u001b[0m\u001b[1;33m\u001b[0m\u001b[1;33m\u001b[0m\u001b[0m\n\u001b[0m\u001b[0;32m    335\u001b[0m       \u001b[0mself\u001b[0m\u001b[1;33m.\u001b[0m\u001b[0m_A3x\u001b[0m\u001b[1;33m[\u001b[0m\u001b[0mk\u001b[0m\u001b[1;33m]\u001b[0m \u001b[1;33m=\u001b[0m \u001b[0mMath\u001b[0m\u001b[1;33m.\u001b[0m\u001b[0mpolyval\u001b[0m\u001b[1;33m(\u001b[0m\u001b[0mm\u001b[0m\u001b[1;33m,\u001b[0m \u001b[0mcoeff\u001b[0m\u001b[1;33m,\u001b[0m \u001b[0mo\u001b[0m\u001b[1;33m,\u001b[0m \u001b[0mself\u001b[0m\u001b[1;33m.\u001b[0m\u001b[0m_n\u001b[0m\u001b[1;33m)\u001b[0m \u001b[1;33m/\u001b[0m \u001b[0mcoeff\u001b[0m\u001b[1;33m[\u001b[0m\u001b[0mo\u001b[0m \u001b[1;33m+\u001b[0m \u001b[0mm\u001b[0m \u001b[1;33m+\u001b[0m \u001b[1;36m1\u001b[0m\u001b[1;33m]\u001b[0m\u001b[1;33m\u001b[0m\u001b[1;33m\u001b[0m\u001b[0m\n\u001b[0;32m    336\u001b[0m       \u001b[0mk\u001b[0m \u001b[1;33m+=\u001b[0m \u001b[1;36m1\u001b[0m\u001b[1;33m\u001b[0m\u001b[1;33m\u001b[0m\u001b[0m\n",
      "\u001b[1;31mKeyboardInterrupt\u001b[0m: "
     ]
    }
   ],
   "source": [
    "start = time.time()\n",
    "for i in range(len(nodes)):\n",
    "    min1 = None\n",
    "    min2 = None\n",
    "    min3 = None\n",
    "    for j in range(len(nodes)):\n",
    "        if i == j:\n",
    "            continue\n",
    "        dist = geopy.distance(nodes[i].coordinates, nodes[j].coordinates)\n",
    "        min1, min2, min3 = updateMin(min1, min2, min3, dist, j)\n",
    "    nodes[i].updateNeighbour(min1[\"index\"], 1)\n",
    "    nodes[i].updateNeighbour(min2[\"index\"], 2)\n",
    "    nodes[i].updateNeighbour(min3[\"index\"], 3)\n",
    "    if (i+1) % 100 == 0:\n",
    "        print(f\"Execution: {i+1}\\t\\tTime elapsed (s): {time.time() - start}\")"
   ]
  },
  {
   "cell_type": "code",
   "execution_count": 9,
   "id": "f490ce88",
   "metadata": {},
   "outputs": [],
   "source": [
    "graph = Graph()\n",
    "for index, city in enumerate(nodes):\n",
    "    graph.add_edge(index, city.neighbour1, calculateTime(city, nodes[city.neighbour1], 1))\n",
    "    graph.add_edge(index, city.neighbour2, calculateTime(city, nodes[city.neighbour2], 2))\n",
    "    graph.add_edge(index, city.neighbour3, calculateTime(city, nodes[city.neighbour3], 3))"
   ]
  },
  {
   "cell_type": "code",
   "execution_count": 11,
   "id": "961d138b",
   "metadata": {},
   "outputs": [
    {
     "name": "stdout",
     "output_type": "stream",
     "text": [
      "967 855 873\n",
      "label distance\n",
      "167         18\n",
      "284          0\n",
      "331         16\n",
      "396         14\n",
      "588         10\n",
      "707         14\n",
      "751         16\n",
      "790         12\n",
      "855          4\n",
      "873          6\n",
      "967          2\n"
     ]
    },
    {
     "data": {
      "text/plain": [
       "[284, 967, 873, 588, 790, 396, 167]"
      ]
     },
     "execution_count": 11,
     "metadata": {},
     "output_type": "execute_result"
    }
   ],
   "source": [
    "startNode = 284\n",
    "dijkstra = DijkstraSPF(graph, startNode)\n",
    "print(nodes[startNode].neighbour1, nodes[startNode].neighbour2, nodes[startNode].neighbour3)\n",
    "\n",
    "print(\"%-5s %-5s\" % (\"label\", \"distance\"))\n",
    "for u in range(len(nodes)):\n",
    "    if dijkstra.get_distance(u) != float('inf') :\n",
    "        print(\"%-5s %8s\" % (u, dijkstra.get_distance(u)))\n",
    "dijkstra.get_path(167)"
   ]
  },
  {
   "cell_type": "markdown",
   "id": "466a3e61",
   "metadata": {},
   "source": [
    "## Mi costruisco il grafo con un balltree\n",
    "\n",
    "Guarda interactive maps per far vedere risultato se puoi utilizzare direttamente quelle con rise o simili"
   ]
  },
  {
   "cell_type": "code",
   "execution_count": 28,
   "id": "559bb5a3",
   "metadata": {},
   "outputs": [],
   "source": [
    "coords = [np.array([float(c.lat), float(c.lng)])*math.pi/180 for _, c in df.iterrows()]"
   ]
  },
  {
   "cell_type": "code",
   "execution_count": 29,
   "id": "e0207ce3",
   "metadata": {},
   "outputs": [
    {
     "data": {
      "text/plain": [
       "(array([[0.        , 0.00351384, 0.00353995, 0.0073098 ]]),\n",
       " array([[284, 967, 855, 873]], dtype=int64))"
      ]
     },
     "execution_count": 29,
     "metadata": {},
     "output_type": "execute_result"
    }
   ],
   "source": [
    "tree = BallTree(coords, leaf_size=3, metric=\"haversine\")\n",
    "tree.query(coords[284:285], k=4)"
   ]
  },
  {
   "cell_type": "code",
   "execution_count": 53,
   "id": "a1de2f83",
   "metadata": {},
   "outputs": [],
   "source": [
    "def distanceTime(start, end, neighbour_pos: int):\n",
    "    if neighbour_pos == 0:\n",
    "        time = 2\n",
    "    elif neighbour_pos == 1:\n",
    "        time = 4\n",
    "    elif neighbour_pos == 2:\n",
    "        time = 8\n",
    "    if start.iso3 != end.iso3:\n",
    "        time += 2\n",
    "    if float(end.population) > 200000:\n",
    "        time += 2\n",
    "    return time"
   ]
  },
  {
   "cell_type": "code",
   "execution_count": 54,
   "id": "e9bf8b83",
   "metadata": {},
   "outputs": [],
   "source": [
    "graph = Graph()\n",
    "for i in df.index:\n",
    "    n = tree.query(coords[i:i+1], k=4)[1][0][1:]\n",
    "    \n",
    "    graph.add_edge(i, neighbours[0], distanceTime(df.iloc[i], df.iloc[n[0]], 0))\n",
    "    graph.add_edge(i, neighbours[1], distanceTime(df.iloc[i], df.iloc[n[1]], 1))\n",
    "    graph.add_edge(i, neighbours[2], distanceTime(df.iloc[i], df.iloc[n[2]], 2))"
   ]
  },
  {
   "cell_type": "code",
   "execution_count": 56,
   "id": "62150d03",
   "metadata": {},
   "outputs": [
    {
     "name": "stdout",
     "output_type": "stream",
     "text": [
      "label distance path      \n",
      "34    2        [189, 34] \n",
      "189   0        [189]     \n",
      "796   4        [189, 796]\n",
      "887   10       [189, 887]\n"
     ]
    }
   ],
   "source": [
    "startNode = 189 #Città di partenza\n",
    "dijkstra = DijkstraSPF(graph, startNode)\n",
    "\n",
    "print(\"%-5s %-5s %-10s\" % (\"label\", \"distance\", \"path\"))\n",
    "for u in df.index:\n",
    "    if dijkstra.get_distance(u) != float('inf') :\n",
    "        print(\"%-5s %-8d %-10s\" % (u, dijkstra.get_distance(u), dijkstra.get_path(u)))"
   ]
  },
  {
   "cell_type": "code",
   "execution_count": null,
   "id": "1839beb1",
   "metadata": {},
   "outputs": [],
   "source": []
  }
 ],
 "metadata": {
  "kernelspec": {
   "display_name": "Python 3 (ipykernel)",
   "language": "python",
   "name": "python3"
  },
  "language_info": {
   "codemirror_mode": {
    "name": "ipython",
    "version": 3
   },
   "file_extension": ".py",
   "mimetype": "text/x-python",
   "name": "python",
   "nbconvert_exporter": "python",
   "pygments_lexer": "ipython3",
   "version": "3.9.0"
  }
 },
 "nbformat": 4,
 "nbformat_minor": 5
}
