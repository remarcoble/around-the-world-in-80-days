{
 "cells": [
  {
   "cell_type": "code",
   "execution_count": 1,
   "id": "b7125e28",
   "metadata": {
    "slideshow": {
     "slide_type": "-"
    }
   },
   "outputs": [],
   "source": [
    "import numpy as np\n",
    "import pandas as pd\n",
    "from dijkstra import DijkstraSPF, Graph\n",
    "from sklearn.neighbors import BallTree\n",
    "import math\n",
    "import csv"
   ]
  },
  {
   "cell_type": "code",
   "execution_count": 2,
   "id": "5f066621",
   "metadata": {},
   "outputs": [],
   "source": [
    "data_file = './data/worldcities_ascii.csv'\n",
    "with open(data_file, 'r') as f:\n",
    "    reader = csv.reader(f)\n",
    "    all_lines = []\n",
    "    for row in reader:\n",
    "        all_lines.append(row)"
   ]
  },
  {
   "cell_type": "code",
   "execution_count": 3,
   "id": "0856b4a7",
   "metadata": {},
   "outputs": [
    {
     "data": {
      "text/html": [
       "<div>\n",
       "<style scoped>\n",
       "    .dataframe tbody tr th:only-of-type {\n",
       "        vertical-align: middle;\n",
       "    }\n",
       "\n",
       "    .dataframe tbody tr th {\n",
       "        vertical-align: top;\n",
       "    }\n",
       "\n",
       "    .dataframe thead th {\n",
       "        text-align: right;\n",
       "    }\n",
       "</style>\n",
       "<table border=\"1\" class=\"dataframe\">\n",
       "  <thead>\n",
       "    <tr style=\"text-align: right;\">\n",
       "      <th></th>\n",
       "      <th>city</th>\n",
       "      <th>lat</th>\n",
       "      <th>lng</th>\n",
       "      <th>country</th>\n",
       "      <th>iso3</th>\n",
       "      <th>population</th>\n",
       "      <th>id</th>\n",
       "    </tr>\n",
       "  </thead>\n",
       "  <tbody>\n",
       "    <tr>\n",
       "      <th>0</th>\n",
       "      <td>Tokyo</td>\n",
       "      <td>35.6897</td>\n",
       "      <td>139.6922</td>\n",
       "      <td>Japan</td>\n",
       "      <td>JPN</td>\n",
       "      <td>37977000</td>\n",
       "      <td>1392685764</td>\n",
       "    </tr>\n",
       "    <tr>\n",
       "      <th>1</th>\n",
       "      <td>Jakarta</td>\n",
       "      <td>-6.2146</td>\n",
       "      <td>106.8451</td>\n",
       "      <td>Indonesia</td>\n",
       "      <td>IDN</td>\n",
       "      <td>34540000</td>\n",
       "      <td>1360771077</td>\n",
       "    </tr>\n",
       "    <tr>\n",
       "      <th>2</th>\n",
       "      <td>Delhi</td>\n",
       "      <td>28.66</td>\n",
       "      <td>77.23</td>\n",
       "      <td>India</td>\n",
       "      <td>IND</td>\n",
       "      <td>29617000</td>\n",
       "      <td>1356872604</td>\n",
       "    </tr>\n",
       "    <tr>\n",
       "      <th>3</th>\n",
       "      <td>Mumbai</td>\n",
       "      <td>18.9667</td>\n",
       "      <td>72.8333</td>\n",
       "      <td>India</td>\n",
       "      <td>IND</td>\n",
       "      <td>23355000</td>\n",
       "      <td>1356226629</td>\n",
       "    </tr>\n",
       "    <tr>\n",
       "      <th>4</th>\n",
       "      <td>Manila</td>\n",
       "      <td>14.5958</td>\n",
       "      <td>120.9772</td>\n",
       "      <td>Philippines</td>\n",
       "      <td>PHL</td>\n",
       "      <td>23088000</td>\n",
       "      <td>1608618140</td>\n",
       "    </tr>\n",
       "    <tr>\n",
       "      <th>...</th>\n",
       "      <td>...</td>\n",
       "      <td>...</td>\n",
       "      <td>...</td>\n",
       "      <td>...</td>\n",
       "      <td>...</td>\n",
       "      <td>...</td>\n",
       "      <td>...</td>\n",
       "    </tr>\n",
       "    <tr>\n",
       "      <th>26564</th>\n",
       "      <td>Nord</td>\n",
       "      <td>81.7166</td>\n",
       "      <td>-17.8</td>\n",
       "      <td>Greenland</td>\n",
       "      <td>GRL</td>\n",
       "      <td>10</td>\n",
       "      <td>1304217709</td>\n",
       "    </tr>\n",
       "    <tr>\n",
       "      <th>26565</th>\n",
       "      <td>Timmiarmiut</td>\n",
       "      <td>62.5333</td>\n",
       "      <td>-42.2167</td>\n",
       "      <td>Greenland</td>\n",
       "      <td>GRL</td>\n",
       "      <td>10</td>\n",
       "      <td>1304206491</td>\n",
       "    </tr>\n",
       "    <tr>\n",
       "      <th>26566</th>\n",
       "      <td>Cheremoshna</td>\n",
       "      <td>51.3894</td>\n",
       "      <td>30.0989</td>\n",
       "      <td>Ukraine</td>\n",
       "      <td>UKR</td>\n",
       "      <td>0</td>\n",
       "      <td>1804043438</td>\n",
       "    </tr>\n",
       "    <tr>\n",
       "      <th>26567</th>\n",
       "      <td>Ambarchik</td>\n",
       "      <td>69.651</td>\n",
       "      <td>162.3336</td>\n",
       "      <td>Russia</td>\n",
       "      <td>RUS</td>\n",
       "      <td>0</td>\n",
       "      <td>1643739159</td>\n",
       "    </tr>\n",
       "    <tr>\n",
       "      <th>26568</th>\n",
       "      <td>Nordvik</td>\n",
       "      <td>74.0165</td>\n",
       "      <td>111.51</td>\n",
       "      <td>Russia</td>\n",
       "      <td>RUS</td>\n",
       "      <td>0</td>\n",
       "      <td>1643587468</td>\n",
       "    </tr>\n",
       "  </tbody>\n",
       "</table>\n",
       "<p>26569 rows × 7 columns</p>\n",
       "</div>"
      ],
      "text/plain": [
       "              city      lat       lng      country iso3 population          id\n",
       "0            Tokyo  35.6897  139.6922        Japan  JPN   37977000  1392685764\n",
       "1          Jakarta  -6.2146  106.8451    Indonesia  IDN   34540000  1360771077\n",
       "2            Delhi    28.66     77.23        India  IND   29617000  1356872604\n",
       "3           Mumbai  18.9667   72.8333        India  IND   23355000  1356226629\n",
       "4           Manila  14.5958  120.9772  Philippines  PHL   23088000  1608618140\n",
       "...            ...      ...       ...          ...  ...        ...         ...\n",
       "26564         Nord  81.7166     -17.8    Greenland  GRL         10  1304217709\n",
       "26565  Timmiarmiut  62.5333  -42.2167    Greenland  GRL         10  1304206491\n",
       "26566  Cheremoshna  51.3894   30.0989      Ukraine  UKR          0  1804043438\n",
       "26567    Ambarchik   69.651  162.3336       Russia  RUS          0  1643739159\n",
       "26568      Nordvik  74.0165    111.51       Russia  RUS          0  1643587468\n",
       "\n",
       "[26569 rows x 7 columns]"
      ]
     },
     "execution_count": 3,
     "metadata": {},
     "output_type": "execute_result"
    }
   ],
   "source": [
    "newLines = []\n",
    "for line in all_lines:\n",
    "    newLine = []\n",
    "    for index, field in enumerate(line):\n",
    "        if (\".\" in field) and (index == 5): #Toglie il '.' nei valori della popolazione\n",
    "            field = field.replace(\".\", \"\")\n",
    "        field = field.replace(\"Korea, South\", \"South Korea\")\n",
    "        field = field.replace(\"Korea, North\", \"North Korea\")\n",
    "        field = field.replace(\"Gambia, The\", \"The Gambia\")\n",
    "        field = field.replace(\"Micronesia, Federated States Of\", \"Federated States Of Micronesia\")\n",
    "        field = field.replace(\"Bahamas, The\", \"The Bahamas\")\n",
    "        field = field.replace(\"Saint Helena, Ascension, And Tristan Da Cunha\", \"Saint Helena, Ascension and Tristan da Cunha\")\n",
    "        field = field.replace(\"Islamorada, Village of Islands\", \"Village of Islands Islamorada\")\n",
    "        if index == 6:\n",
    "            field = field.replace(\"\\n\", \"\")\n",
    "        newLine.append(field)\n",
    "    newLines.append(newLine)\n",
    "\n",
    "#Lo esporto in caso mi servisse in altri progetti\n",
    "df = pd.DataFrame(newLines[1:], columns=newLines[0])\n",
    "df[\"population\"].replace({\"\": 0}, inplace= True) #Correggo alcuni valori che non hanno la popolazione con 0 anche se sarebbe più corretto lasciare null/None\n",
    "df.to_csv(\"./data/worldcities_preprocessed.csv\", index=False)\n",
    "df"
   ]
  },
  {
   "cell_type": "markdown",
   "id": "466a3e61",
   "metadata": {},
   "source": [
    "## Mi costruisco il grafo con un balltree\n",
    "\n",
    "Guarda interactive maps per far vedere risultato se puoi utilizzare direttamente quelle con rise o simili"
   ]
  },
  {
   "cell_type": "code",
   "execution_count": 4,
   "id": "559bb5a3",
   "metadata": {},
   "outputs": [],
   "source": [
    "coords = [np.array([float(c.lat), float(c.lng)])*math.pi/180 for _, c in df.iterrows()]"
   ]
  },
  {
   "cell_type": "code",
   "execution_count": 5,
   "id": "e0207ce3",
   "metadata": {},
   "outputs": [
    {
     "data": {
      "text/plain": [
       "(array([[0.        , 0.0025749 , 0.00269627, 0.00408044]]),\n",
       " array([[  284,   999, 11417,  3118]], dtype=int64))"
      ]
     },
     "execution_count": 5,
     "metadata": {},
     "output_type": "execute_result"
    }
   ],
   "source": [
    "tree = BallTree(coords, leaf_size=3, metric=\"haversine\")\n",
    "tree.query(coords[284:285], k=4)"
   ]
  },
  {
   "cell_type": "code",
   "execution_count": 6,
   "id": "a1de2f83",
   "metadata": {},
   "outputs": [],
   "source": [
    "def distanceTime(start, end, neighbour_pos: int):\n",
    "    if neighbour_pos == 0:\n",
    "        time = 2\n",
    "    elif neighbour_pos == 1:\n",
    "        time = 4\n",
    "    elif neighbour_pos == 2:\n",
    "        time = 8\n",
    "    if start.iso3 != end.iso3:\n",
    "        time += 2\n",
    "    if float(end.population) > 200000:\n",
    "        time += 2\n",
    "    return time"
   ]
  },
  {
   "cell_type": "code",
   "execution_count": 7,
   "id": "e9bf8b83",
   "metadata": {},
   "outputs": [],
   "source": [
    "graph = Graph()\n",
    "for i in df.index:\n",
    "    n = tree.query(coords[i:i+1], k=4)[1][0][1:]\n",
    "    \n",
    "    graph.add_edge(i, n[0], distanceTime(df.iloc[i], df.iloc[n[0]], 0))\n",
    "    graph.add_edge(i, n[1], distanceTime(df.iloc[i], df.iloc[n[1]], 1))\n",
    "    graph.add_edge(i, n[2], distanceTime(df.iloc[i], df.iloc[n[2]], 2))"
   ]
  },
  {
   "cell_type": "code",
   "execution_count": 8,
   "id": "62150d03",
   "metadata": {
    "scrolled": true
   },
   "outputs": [
    {
     "name": "stdout",
     "output_type": "stream",
     "text": [
      "label distance path      \n",
      "2     108      [3175, 19004, 14093, 14599, 10956, 831, 14757, 2913, 253, 1810, 2275, 10809, 3809, 627, 15303, 3178, 2520, 2709, 337, 2]\n"
     ]
    }
   ],
   "source": [
    "startNode = 3175 #Città di partenza\n",
    "dijkstra = DijkstraSPF(graph, startNode)\n",
    "print(\"%-5s %-5s %-10s\" % (\"label\", \"distance\", \"path\"))\n",
    "for endNode in df.index:\n",
    "    dist = dijkstra.get_distance(endNode)\n",
    "    if dist != float('inf'):\n",
    "        print(\"%-5s %-8d %-10s\" % (endNode, dist, dijkstra.get_path(endNode)))\n",
    "        break"
   ]
  },
  {
   "cell_type": "markdown",
   "id": "539b9628",
   "metadata": {},
   "source": [
    "# Map ipyleaflet"
   ]
  },
  {
   "cell_type": "code",
   "execution_count": 20,
   "id": "6f72f19b",
   "metadata": {},
   "outputs": [],
   "source": [
    "from ipyleaflet import Map, basemaps, Marker, Polyline\n",
    "import ipywidgets as widgets"
   ]
  },
  {
   "cell_type": "markdown",
   "id": "b8941d50",
   "metadata": {},
   "source": [
    "## All cities neighbours"
   ]
  },
  {
   "cell_type": "code",
   "execution_count": 38,
   "id": "412da746",
   "metadata": {},
   "outputs": [],
   "source": [
    "def draw_marker(city):\n",
    "    marker = Marker(location=(city.lat, city.lng), draggable=False, title=city.city)\n",
    "    #marker.on_click(lambda **a: add_marker(df.iloc[193]))\n",
    "    m.add_layer(marker)\n",
    "    \n",
    "def draw_line(coords):\n",
    "    line = Polyline(\n",
    "        locations=coords,\n",
    "        color=\"red\",\n",
    "        fill=False\n",
    "    )\n",
    "    m.add_layer(line)"
   ]
  },
  {
   "cell_type": "code",
   "execution_count": 58,
   "id": "d9de911f",
   "metadata": {
    "scrolled": false,
    "slideshow": {
     "slide_type": "-"
    }
   },
   "outputs": [
    {
     "data": {
      "application/vnd.jupyter.widget-view+json": {
       "model_id": "92d45cdcecd34b889325b3b0911b3fc7",
       "version_major": 2,
       "version_minor": 0
      },
      "text/plain": [
       "Map(center=[0.0, 0.0], controls=(ZoomControl(options=['position', 'zoom_in_text', 'zoom_in_title', 'zoom_out_t…"
      ]
     },
     "metadata": {},
     "output_type": "display_data"
    },
    {
     "data": {
      "application/vnd.jupyter.widget-view+json": {
       "model_id": "17e60da05f99471fbbead943c53f5e64",
       "version_major": 2,
       "version_minor": 0
      },
      "text/plain": [
       "Combobox(value='', description='City:', ensure_option=True, options=('Tokyo (JPN)', 'Jakarta (IDN)', 'Delhi (I…"
      ]
     },
     "metadata": {},
     "output_type": "display_data"
    },
    {
     "data": {
      "application/vnd.jupyter.widget-view+json": {
       "model_id": "698a7fa7a8c64d6eae296e07fee277d2",
       "version_major": 2,
       "version_minor": 0
      },
      "text/plain": [
       "Output()"
      ]
     },
     "metadata": {},
     "output_type": "display_data"
    }
   ],
   "source": [
    "m = Map(basemap=basemaps.Esri.WorldImagery, zoom=1, scroll_wheel_zoom=True, world_copy_jump=True)\n",
    "m.layout.height = \"510px\"\n",
    "\n",
    "options = [f\"{city.city} ({city.iso3})\" for _, city in df.iterrows()]\n",
    "cityList = widgets.Combobox(\n",
    "    options=options,\n",
    "    placeholder='ex. London',\n",
    "    description='City:',\n",
    "    ensure_option=True,\n",
    "    disabled=False\n",
    ")\n",
    "\n",
    "output = widgets.Output()\n",
    "\n",
    "display(m, cityList, output)\n",
    "\n",
    "def callback(change):\n",
    "    with output:\n",
    "        print(change[\"new\"])\n",
    "\n",
    "cityList.observe(callback, names=\"value\")"
   ]
  },
  {
   "cell_type": "code",
   "execution_count": 12,
   "id": "8c12d1fa",
   "metadata": {},
   "outputs": [],
   "source": [
    "eastGraph = Graph()\n",
    "for i in df.index:\n",
    "    n = tree.query(coords[i:i+1], k=4)[1][0][1:]\n",
    "    \n",
    "    if (float(df.iloc[i].lng) < float(df.iloc[n[0]].lng)) or ((float(df.iloc[i].lng) > 0) and (float(df.iloc[n[0]].lng) < 0) and (float(df.iloc[i].lng)-float(df.iloc[n[0]].lng) >= 180)):\n",
    "        eastGraph.add_edge(i, n[0], distanceTime(df.iloc[i], df.iloc[n[0]], 0))\n",
    "    if (float(df.iloc[i].lng) < float(df.iloc[n[1]].lng)) or ((float(df.iloc[i].lng) > 0) and (float(df.iloc[n[1]].lng) < 0) and (float(df.iloc[i].lng)-float(df.iloc[n[1]].lng) >= 180)):\n",
    "        eastGraph.add_edge(i, n[1], distanceTime(df.iloc[i], df.iloc[n[1]], 1))\n",
    "    if (float(df.iloc[i].lng) < float(df.iloc[n[2]].lng)) or ((float(df.iloc[i].lng) > 0) and (float(df.iloc[n[2]].lng) < 0) and (float(df.iloc[i].lng)-float(df.iloc[n[2]].lng) >= 180)):\n",
    "        eastGraph.add_edge(i, n[2], distanceTime(df.iloc[i], df.iloc[n[2]], 2))"
   ]
  },
  {
   "cell_type": "code",
   "execution_count": 13,
   "id": "8866fbd4",
   "metadata": {},
   "outputs": [
    {
     "data": {
      "text/plain": [
       "inf"
      ]
     },
     "execution_count": 13,
     "metadata": {},
     "output_type": "execute_result"
    }
   ],
   "source": [
    "startNode = 34\n",
    "dijkstraEast = DijkstraSPF(eastGraph, startNode)\n",
    "dijkstraEast.get_distance(4897)"
   ]
  },
  {
   "cell_type": "code",
   "execution_count": 14,
   "id": "805dbf68",
   "metadata": {},
   "outputs": [
    {
     "name": "stdout",
     "output_type": "stream",
     "text": [
      "26375\t7355\t[26375, 7355]\n",
      "26342\t7355\t[26342, 26375, 7355]\n",
      "26390\t7355\t[26390, 26375, 7355]\n",
      "26390\t26342\t[26390, 26375, 26342]\n",
      "26375\t26342\t[26375, 26342]\n",
      "7355\t26375\t[7355, 26375]\n",
      "26342\t26375\t[26342, 26375]\n",
      "26375\t26390\t[26375, 26342, 26390]\n"
     ]
    }
   ],
   "source": [
    "for startNode in df.index:\n",
    "    for candidate in dijkstraEast.get_adjacent_nodes(eastGraph, startNode):\n",
    "        dijkstraEast = DijkstraSPF(eastGraph, candidate)\n",
    "        if dijkstraEast.get_distance(startNode) != float('inf'):\n",
    "            print(f\"{candidate}\\t{startNode}\\t{dijkstraEast.get_path(startNode)}\")"
   ]
  },
  {
   "cell_type": "code",
   "execution_count": 15,
   "id": "2f7b8d56",
   "metadata": {},
   "outputs": [],
   "source": [
    "add_marker(df.iloc[26390])\n",
    "add_marker(df.iloc[26375])\n",
    "add_marker(df.iloc[7355])"
   ]
  },
  {
   "cell_type": "code",
   "execution_count": 16,
   "id": "69de0215",
   "metadata": {},
   "outputs": [],
   "source": [
    "line = Polyline(\n",
    "    locations=[\n",
    "        [df.iloc[123].lat, df.iloc[123].lng],\n",
    "        [df.iloc[26375].lat, df.iloc[26375].lng],\n",
    "        [df.iloc[7355].lat, df.iloc[7355].lng],\n",
    "        [df.iloc[123].lat, df.iloc[123].lng]\n",
    "    ],\n",
    "    color=\"red\",\n",
    "    fill=False\n",
    ")\n",
    "\n",
    "m.add_layer(line)"
   ]
  },
  {
   "cell_type": "code",
   "execution_count": 44,
   "id": "079696a1",
   "metadata": {},
   "outputs": [
    {
     "data": {
      "application/vnd.jupyter.widget-view+json": {
       "model_id": "006ee6f898c64137b70816200e9323e4",
       "version_major": 2,
       "version_minor": 0
      },
      "text/plain": [
       "Button(description='Click Me!', style=ButtonStyle())"
      ]
     },
     "metadata": {},
     "output_type": "display_data"
    },
    {
     "data": {
      "application/vnd.jupyter.widget-view+json": {
       "model_id": "7fef175e4565405abe686f0ee420a372",
       "version_major": 2,
       "version_minor": 0
      },
      "text/plain": [
       "Output()"
      ]
     },
     "metadata": {},
     "output_type": "display_data"
    }
   ],
   "source": [
    "button = widgets.Button(description=\"Click Me!\")\n",
    "output = widgets.Output()\n",
    "\n",
    "display(button, output)\n",
    "\n",
    "def on_button_clicked(b):\n",
    "    with output:\n",
    "        print(\"Button clicked.\")\n",
    "\n",
    "button.on_click(on_button_clicked)"
   ]
  },
  {
   "cell_type": "code",
   "execution_count": null,
   "id": "0c9d498e",
   "metadata": {},
   "outputs": [],
   "source": []
  }
 ],
 "metadata": {
  "kernelspec": {
   "display_name": "Python 3 (ipykernel)",
   "language": "python",
   "name": "python3"
  },
  "language_info": {
   "codemirror_mode": {
    "name": "ipython",
    "version": 3
   },
   "file_extension": ".py",
   "mimetype": "text/x-python",
   "name": "python",
   "nbconvert_exporter": "python",
   "pygments_lexer": "ipython3",
   "version": "3.9.0"
  }
 },
 "nbformat": 4,
 "nbformat_minor": 5
}
