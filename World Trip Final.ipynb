{
 "cells": [
  {
   "cell_type": "code",
   "execution_count": 1,
   "id": "b7125e28",
   "metadata": {},
   "outputs": [],
   "source": [
    "import numpy as np\n",
    "import pandas as pd\n",
    "from dijkstra import DijkstraSPF, Graph\n",
    "from sklearn.neighbors import BallTree\n",
    "import math\n",
    "import csv\n",
    "import ipyleaflet"
   ]
  },
  {
   "cell_type": "code",
   "execution_count": 2,
   "id": "5f066621",
   "metadata": {},
   "outputs": [],
   "source": [
    "data_file = './data/worldcities_ascii.csv'\n",
    "with open(data_file, 'r') as f:\n",
    "    reader = csv.reader(f)\n",
    "    all_lines = []\n",
    "    for row in reader:\n",
    "        all_lines.append(row)"
   ]
  },
  {
   "cell_type": "code",
   "execution_count": 3,
   "id": "0856b4a7",
   "metadata": {},
   "outputs": [
    {
     "data": {
      "text/html": [
       "<div>\n",
       "<style scoped>\n",
       "    .dataframe tbody tr th:only-of-type {\n",
       "        vertical-align: middle;\n",
       "    }\n",
       "\n",
       "    .dataframe tbody tr th {\n",
       "        vertical-align: top;\n",
       "    }\n",
       "\n",
       "    .dataframe thead th {\n",
       "        text-align: right;\n",
       "    }\n",
       "</style>\n",
       "<table border=\"1\" class=\"dataframe\">\n",
       "  <thead>\n",
       "    <tr style=\"text-align: right;\">\n",
       "      <th></th>\n",
       "      <th>city</th>\n",
       "      <th>lat</th>\n",
       "      <th>lng</th>\n",
       "      <th>country</th>\n",
       "      <th>iso3</th>\n",
       "      <th>population</th>\n",
       "      <th>id</th>\n",
       "    </tr>\n",
       "  </thead>\n",
       "  <tbody>\n",
       "    <tr>\n",
       "      <th>0</th>\n",
       "      <td>Tokyo</td>\n",
       "      <td>35.6897</td>\n",
       "      <td>139.6922</td>\n",
       "      <td>Japan</td>\n",
       "      <td>JPN</td>\n",
       "      <td>37977000</td>\n",
       "      <td>1392685764</td>\n",
       "    </tr>\n",
       "    <tr>\n",
       "      <th>1</th>\n",
       "      <td>Jakarta</td>\n",
       "      <td>-6.2146</td>\n",
       "      <td>106.8451</td>\n",
       "      <td>Indonesia</td>\n",
       "      <td>IDN</td>\n",
       "      <td>34540000</td>\n",
       "      <td>1360771077</td>\n",
       "    </tr>\n",
       "    <tr>\n",
       "      <th>2</th>\n",
       "      <td>Delhi</td>\n",
       "      <td>28.66</td>\n",
       "      <td>77.23</td>\n",
       "      <td>India</td>\n",
       "      <td>IND</td>\n",
       "      <td>29617000</td>\n",
       "      <td>1356872604</td>\n",
       "    </tr>\n",
       "    <tr>\n",
       "      <th>3</th>\n",
       "      <td>Mumbai</td>\n",
       "      <td>18.9667</td>\n",
       "      <td>72.8333</td>\n",
       "      <td>India</td>\n",
       "      <td>IND</td>\n",
       "      <td>23355000</td>\n",
       "      <td>1356226629</td>\n",
       "    </tr>\n",
       "    <tr>\n",
       "      <th>4</th>\n",
       "      <td>Manila</td>\n",
       "      <td>14.5958</td>\n",
       "      <td>120.9772</td>\n",
       "      <td>Philippines</td>\n",
       "      <td>PHL</td>\n",
       "      <td>23088000</td>\n",
       "      <td>1608618140</td>\n",
       "    </tr>\n",
       "    <tr>\n",
       "      <th>...</th>\n",
       "      <td>...</td>\n",
       "      <td>...</td>\n",
       "      <td>...</td>\n",
       "      <td>...</td>\n",
       "      <td>...</td>\n",
       "      <td>...</td>\n",
       "      <td>...</td>\n",
       "    </tr>\n",
       "    <tr>\n",
       "      <th>26564</th>\n",
       "      <td>Nord</td>\n",
       "      <td>81.7166</td>\n",
       "      <td>-17.8</td>\n",
       "      <td>Greenland</td>\n",
       "      <td>GRL</td>\n",
       "      <td>10</td>\n",
       "      <td>1304217709</td>\n",
       "    </tr>\n",
       "    <tr>\n",
       "      <th>26565</th>\n",
       "      <td>Timmiarmiut</td>\n",
       "      <td>62.5333</td>\n",
       "      <td>-42.2167</td>\n",
       "      <td>Greenland</td>\n",
       "      <td>GRL</td>\n",
       "      <td>10</td>\n",
       "      <td>1304206491</td>\n",
       "    </tr>\n",
       "    <tr>\n",
       "      <th>26566</th>\n",
       "      <td>Cheremoshna</td>\n",
       "      <td>51.3894</td>\n",
       "      <td>30.0989</td>\n",
       "      <td>Ukraine</td>\n",
       "      <td>UKR</td>\n",
       "      <td>0</td>\n",
       "      <td>1804043438</td>\n",
       "    </tr>\n",
       "    <tr>\n",
       "      <th>26567</th>\n",
       "      <td>Ambarchik</td>\n",
       "      <td>69.651</td>\n",
       "      <td>162.3336</td>\n",
       "      <td>Russia</td>\n",
       "      <td>RUS</td>\n",
       "      <td>0</td>\n",
       "      <td>1643739159</td>\n",
       "    </tr>\n",
       "    <tr>\n",
       "      <th>26568</th>\n",
       "      <td>Nordvik</td>\n",
       "      <td>74.0165</td>\n",
       "      <td>111.51</td>\n",
       "      <td>Russia</td>\n",
       "      <td>RUS</td>\n",
       "      <td>0</td>\n",
       "      <td>1643587468</td>\n",
       "    </tr>\n",
       "  </tbody>\n",
       "</table>\n",
       "<p>26569 rows × 7 columns</p>\n",
       "</div>"
      ],
      "text/plain": [
       "              city      lat       lng      country iso3 population          id\n",
       "0            Tokyo  35.6897  139.6922        Japan  JPN   37977000  1392685764\n",
       "1          Jakarta  -6.2146  106.8451    Indonesia  IDN   34540000  1360771077\n",
       "2            Delhi    28.66     77.23        India  IND   29617000  1356872604\n",
       "3           Mumbai  18.9667   72.8333        India  IND   23355000  1356226629\n",
       "4           Manila  14.5958  120.9772  Philippines  PHL   23088000  1608618140\n",
       "...            ...      ...       ...          ...  ...        ...         ...\n",
       "26564         Nord  81.7166     -17.8    Greenland  GRL         10  1304217709\n",
       "26565  Timmiarmiut  62.5333  -42.2167    Greenland  GRL         10  1304206491\n",
       "26566  Cheremoshna  51.3894   30.0989      Ukraine  UKR          0  1804043438\n",
       "26567    Ambarchik   69.651  162.3336       Russia  RUS          0  1643739159\n",
       "26568      Nordvik  74.0165    111.51       Russia  RUS          0  1643587468\n",
       "\n",
       "[26569 rows x 7 columns]"
      ]
     },
     "execution_count": 3,
     "metadata": {},
     "output_type": "execute_result"
    }
   ],
   "source": [
    "newLines = []\n",
    "for line in all_lines:\n",
    "    newLine = []\n",
    "    for index, field in enumerate(line):\n",
    "        if (\".\" in field) and (index == 5): #Toglie il '.' nei valori della popolazione\n",
    "            field = field.replace(\".\", \"\")\n",
    "        field = field.replace(\"Korea, South\", \"South Korea\")\n",
    "        field = field.replace(\"Korea, North\", \"North Korea\")\n",
    "        field = field.replace(\"Gambia, The\", \"The Gambia\")\n",
    "        field = field.replace(\"Micronesia, Federated States Of\", \"Federated States Of Micronesia\")\n",
    "        field = field.replace(\"Bahamas, The\", \"The Bahamas\")\n",
    "        field = field.replace(\"Saint Helena, Ascension, And Tristan Da Cunha\", \"Saint Helena, Ascension and Tristan da Cunha\")\n",
    "        field = field.replace(\"Islamorada, Village of Islands\", \"Village of Islands Islamorada\")\n",
    "        if index == 6:\n",
    "            field = field.replace(\"\\n\", \"\")\n",
    "        newLine.append(field)\n",
    "    newLines.append(newLine)\n",
    "\n",
    "#Lo esporto in caso mi servisse in altri progetti\n",
    "df = pd.DataFrame(newLines[1:], columns=newLines[0])\n",
    "df[\"population\"].replace({\"\": 0}, inplace= True) #Correggo alcuni valori che non hanno la popolazione con 0 anche se sarebbe più corretto lasciare null/None\n",
    "df.to_csv(\"./data/worldcities_preprocessed.csv\", index=False)\n",
    "df"
   ]
  },
  {
   "cell_type": "markdown",
   "id": "466a3e61",
   "metadata": {},
   "source": [
    "## Mi costruisco il grafo con un balltree\n",
    "\n",
    "Guarda interactive maps per far vedere risultato se puoi utilizzare direttamente quelle con rise o simili"
   ]
  },
  {
   "cell_type": "code",
   "execution_count": 4,
   "id": "559bb5a3",
   "metadata": {},
   "outputs": [],
   "source": [
    "coords = [np.array([float(c.lat), float(c.lng)])*math.pi/180 for _, c in df.iterrows()]"
   ]
  },
  {
   "cell_type": "code",
   "execution_count": 5,
   "id": "e0207ce3",
   "metadata": {},
   "outputs": [
    {
     "data": {
      "text/plain": [
       "(array([[0.        , 0.0025749 , 0.00269627, 0.00408044]]),\n",
       " array([[  284,   999, 11417,  3118]], dtype=int64))"
      ]
     },
     "execution_count": 5,
     "metadata": {},
     "output_type": "execute_result"
    }
   ],
   "source": [
    "tree = BallTree(coords, leaf_size=3, metric=\"haversine\")\n",
    "tree.query(coords[284:285], k=4)"
   ]
  },
  {
   "cell_type": "code",
   "execution_count": 6,
   "id": "a1de2f83",
   "metadata": {},
   "outputs": [],
   "source": [
    "def distanceTime(start, end, neighbour_pos: int):\n",
    "    if neighbour_pos == 0:\n",
    "        time = 2\n",
    "    elif neighbour_pos == 1:\n",
    "        time = 4\n",
    "    elif neighbour_pos == 2:\n",
    "        time = 8\n",
    "    if start.iso3 != end.iso3:\n",
    "        time += 2\n",
    "    if float(end.population) > 200000:\n",
    "        time += 2\n",
    "    return time"
   ]
  },
  {
   "cell_type": "code",
   "execution_count": 8,
   "id": "e9bf8b83",
   "metadata": {},
   "outputs": [],
   "source": [
    "graph = Graph()\n",
    "for i in df.index:\n",
    "    n = tree.query(coords[i:i+1], k=4)[1][0][1:]\n",
    "    \n",
    "    graph.add_edge(i, n[0], distanceTime(df.iloc[i], df.iloc[n[0]], 0))\n",
    "    graph.add_edge(i, n[1], distanceTime(df.iloc[i], df.iloc[n[1]], 1))\n",
    "    graph.add_edge(i, n[2], distanceTime(df.iloc[i], df.iloc[n[2]], 2))"
   ]
  },
  {
   "cell_type": "code",
   "execution_count": 19,
   "id": "62150d03",
   "metadata": {},
   "outputs": [
    {
     "name": "stdout",
     "output_type": "stream",
     "text": [
      "label distance path      \n"
     ]
    },
    {
     "ename": "KeyError",
     "evalue": "0",
     "output_type": "error",
     "traceback": [
      "\u001b[1;31m---------------------------------------------------------------------------\u001b[0m",
      "\u001b[1;31mKeyError\u001b[0m                                  Traceback (most recent call last)",
      "\u001b[1;32m~\\AppData\\Local\\Temp/ipykernel_13456/2695637019.py\u001b[0m in \u001b[0;36m<module>\u001b[1;34m\u001b[0m\n\u001b[0;32m      5\u001b[0m \u001b[1;32mfor\u001b[0m \u001b[0mu\u001b[0m \u001b[1;32min\u001b[0m \u001b[0mdf\u001b[0m\u001b[1;33m.\u001b[0m\u001b[0mindex\u001b[0m\u001b[1;33m:\u001b[0m\u001b[1;33m\u001b[0m\u001b[1;33m\u001b[0m\u001b[0m\n\u001b[0;32m      6\u001b[0m     \u001b[1;32mif\u001b[0m \u001b[0mdijkstra\u001b[0m\u001b[1;33m.\u001b[0m\u001b[0mget_distance\u001b[0m\u001b[1;33m(\u001b[0m\u001b[0mu\u001b[0m\u001b[1;33m)\u001b[0m \u001b[1;33m>\u001b[0m \u001b[1;36m100\u001b[0m \u001b[1;33m:\u001b[0m\u001b[1;33m\u001b[0m\u001b[1;33m\u001b[0m\u001b[0m\n\u001b[1;32m----> 7\u001b[1;33m         \u001b[0mprint\u001b[0m\u001b[1;33m(\u001b[0m\u001b[1;34m\"%-5s %-8d %-10s\"\u001b[0m \u001b[1;33m%\u001b[0m \u001b[1;33m(\u001b[0m\u001b[0mu\u001b[0m\u001b[1;33m,\u001b[0m \u001b[0mdijkstra\u001b[0m\u001b[1;33m.\u001b[0m\u001b[0mget_distance\u001b[0m\u001b[1;33m(\u001b[0m\u001b[0mu\u001b[0m\u001b[1;33m)\u001b[0m\u001b[1;33m,\u001b[0m \u001b[0mdijkstra\u001b[0m\u001b[1;33m.\u001b[0m\u001b[0mget_path\u001b[0m\u001b[1;33m(\u001b[0m\u001b[0mu\u001b[0m\u001b[1;33m)\u001b[0m\u001b[1;33m)\u001b[0m\u001b[1;33m)\u001b[0m\u001b[1;33m\u001b[0m\u001b[1;33m\u001b[0m\u001b[0m\n\u001b[0m",
      "\u001b[1;32mc:\\users\\marco\\appdata\\local\\programs\\python\\python39\\lib\\site-packages\\dijkstra\\dijkstra.py\u001b[0m in \u001b[0;36mget_path\u001b[1;34m(self, v)\u001b[0m\n\u001b[0;32m     48\u001b[0m         \u001b[1;34m\"\"\" Return the shortest path to v. \"\"\"\u001b[0m\u001b[1;33m\u001b[0m\u001b[1;33m\u001b[0m\u001b[0m\n\u001b[0;32m     49\u001b[0m         \u001b[0mpath\u001b[0m \u001b[1;33m=\u001b[0m \u001b[1;33m[\u001b[0m\u001b[0mv\u001b[0m\u001b[1;33m]\u001b[0m\u001b[1;33m\u001b[0m\u001b[1;33m\u001b[0m\u001b[0m\n\u001b[1;32m---> 50\u001b[1;33m         \u001b[1;32mwhile\u001b[0m \u001b[0mself\u001b[0m\u001b[1;33m.\u001b[0m\u001b[0m__prev\u001b[0m\u001b[1;33m[\u001b[0m\u001b[0mv\u001b[0m\u001b[1;33m]\u001b[0m \u001b[1;33m!=\u001b[0m \u001b[0mv\u001b[0m\u001b[1;33m:\u001b[0m\u001b[1;33m\u001b[0m\u001b[1;33m\u001b[0m\u001b[0m\n\u001b[0m\u001b[0;32m     51\u001b[0m             \u001b[0mv\u001b[0m \u001b[1;33m=\u001b[0m \u001b[0mself\u001b[0m\u001b[1;33m.\u001b[0m\u001b[0m__prev\u001b[0m\u001b[1;33m[\u001b[0m\u001b[0mv\u001b[0m\u001b[1;33m]\u001b[0m\u001b[1;33m\u001b[0m\u001b[1;33m\u001b[0m\u001b[0m\n\u001b[0;32m     52\u001b[0m             \u001b[0mpath\u001b[0m\u001b[1;33m.\u001b[0m\u001b[0mappend\u001b[0m\u001b[1;33m(\u001b[0m\u001b[0mv\u001b[0m\u001b[1;33m)\u001b[0m\u001b[1;33m\u001b[0m\u001b[1;33m\u001b[0m\u001b[0m\n",
      "\u001b[1;31mKeyError\u001b[0m: 0"
     ]
    }
   ],
   "source": [
    "startNode = 189 #Città di partenza\n",
    "dijkstra = DijkstraSPF(graph, startNode)\n",
    "\n",
    "print(\"%-5s %-5s %-10s\" % (\"label\", \"distance\", \"path\"))\n",
    "for u in df.index:\n",
    "    if dijkstra.get_distance(u) != float('inf') and  :\n",
    "        print(\"%-5s %-8d %-10s\" % (u, dijkstra.get_distance(u), dijkstra.get_path(u)))"
   ]
  },
  {
   "cell_type": "code",
   "execution_count": null,
   "id": "91cc87d0",
   "metadata": {},
   "outputs": [],
   "source": []
  }
 ],
 "metadata": {
  "kernelspec": {
   "display_name": "Python 3 (ipykernel)",
   "language": "python",
   "name": "python3"
  },
  "language_info": {
   "codemirror_mode": {
    "name": "ipython",
    "version": 3
   },
   "file_extension": ".py",
   "mimetype": "text/x-python",
   "name": "python",
   "nbconvert_exporter": "python",
   "pygments_lexer": "ipython3",
   "version": "3.9.0"
  }
 },
 "nbformat": 4,
 "nbformat_minor": 5
}
